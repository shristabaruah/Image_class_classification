{
  "nbformat": 4,
  "nbformat_minor": 0,
  "metadata": {
    "colab": {
      "name": "CNN.ipynb",
      "provenance": [],
      "collapsed_sections": [],
      "mount_file_id": "109TtDUzlEz7J9Klo5uidB6jgit75ytyq",
      "authorship_tag": "ABX9TyMo+ttlOecGjlaT6xLN3pah",
      "include_colab_link": true
    },
    "kernelspec": {
      "name": "python3",
      "display_name": "Python 3"
    },
    "language_info": {
      "name": "python"
    },
    "accelerator": "GPU"
  },
  "cells": [
    {
      "cell_type": "markdown",
      "metadata": {
        "id": "view-in-github",
        "colab_type": "text"
      },
      "source": [
        "<a href=\"https://colab.research.google.com/github/shristabaruah/Image_class_classification/blob/main/CNN.ipynb\" target=\"_parent\"><img src=\"https://colab.research.google.com/assets/colab-badge.svg\" alt=\"Open In Colab\"/></a>"
      ]
    },
    {
      "cell_type": "code",
      "metadata": {
        "colab": {
          "base_uri": "https://localhost:8080/"
        },
        "id": "5Eoa7B-iJPtT",
        "outputId": "ba0a2dbd-b0fb-4f06-e29c-63db2fc0d8d9"
      },
      "source": [
        "!nvidia-smi"
      ],
      "execution_count": 1,
      "outputs": [
        {
          "output_type": "stream",
          "text": [
            "Thu May  6 16:43:42 2021       \n",
            "+-----------------------------------------------------------------------------+\n",
            "| NVIDIA-SMI 465.19.01    Driver Version: 460.32.03    CUDA Version: 11.2     |\n",
            "|-------------------------------+----------------------+----------------------+\n",
            "| GPU  Name        Persistence-M| Bus-Id        Disp.A | Volatile Uncorr. ECC |\n",
            "| Fan  Temp  Perf  Pwr:Usage/Cap|         Memory-Usage | GPU-Util  Compute M. |\n",
            "|                               |                      |               MIG M. |\n",
            "|===============================+======================+======================|\n",
            "|   0  Tesla K80           Off  | 00000000:00:04.0 Off |                    0 |\n",
            "| N/A   35C    P8    26W / 149W |      0MiB / 11441MiB |      0%      Default |\n",
            "|                               |                      |                  N/A |\n",
            "+-------------------------------+----------------------+----------------------+\n",
            "                                                                               \n",
            "+-----------------------------------------------------------------------------+\n",
            "| Processes:                                                                  |\n",
            "|  GPU   GI   CI        PID   Type   Process name                  GPU Memory |\n",
            "|        ID   ID                                                   Usage      |\n",
            "|=============================================================================|\n",
            "|  No running processes found                                                 |\n",
            "+-----------------------------------------------------------------------------+\n"
          ],
          "name": "stdout"
        }
      ]
    },
    {
      "cell_type": "code",
      "metadata": {
        "id": "8u2iqEAlRqdJ"
      },
      "source": [
        "import matplotlib.pyplot as plt\n",
        "import matplotlib.image as mpimg\n",
        "\n",
        "plt.style.use('dark_background')\n"
      ],
      "execution_count": 2,
      "outputs": []
    },
    {
      "cell_type": "code",
      "metadata": {
        "id": "h3cFs0w5aZi-"
      },
      "source": [
        "from keras.models import Sequential\n",
        "from keras.preprocessing.image import ImageDataGenerator\n",
        "from keras.layers import BatchNormalization\n",
        "from keras.layers import Dropout\n",
        "from keras.layers import Conv2D, MaxPooling2D, Dense, Flatten"
      ],
      "execution_count": 3,
      "outputs": []
    },
    {
      "cell_type": "code",
      "metadata": {
        "id": "ZraIuplFBUnP"
      },
      "source": [
        "img_height ,img_width =150,150\n",
        "train_data_dir ='/content/drive/MyDrive/dataset/dataset/dataset'\n",
        "validation_data_dir ='/content/drive/MyDrive/dataset/dataset/dataset'\n",
        "batch_size = 9"
      ],
      "execution_count": 4,
      "outputs": []
    },
    {
      "cell_type": "code",
      "metadata": {
        "id": "u3gAbjo4a5aG",
        "colab": {
          "base_uri": "https://localhost:8080/"
        },
        "outputId": "3766845e-8d76-4248-8e07-886d0fa818b6"
      },
      "source": [
        "#data_augmentation\n",
        "\n",
        "datagen = ImageDataGenerator(\n",
        "    rescale=1./255,\n",
        "    shear_range=0.2,\n",
        "    zoom_range=0.2,\n",
        "    horizontal_flip=True,\n",
        "    rotation_range=20,\n",
        "    width_shift_range = 0.2,\n",
        "    height_shift_range = 0.2,\n",
        "    validation_split = 0.2\n",
        "    \n",
        ")\n",
        "train_generator = datagen.flow_from_directory(\n",
        "    train_data_dir,\n",
        "    target_size =(img_width, img_height),\n",
        "    batch_size = batch_size,\n",
        "    subset =\"training\",\n",
        "    class_mode=\"categorical\"\n",
        ")\n",
        "\n",
        "val_datagen = ImageDataGenerator(rescale =1./255)\n",
        "\n",
        "validation_generator = datagen.flow_from_directory(\n",
        "    validation_data_dir,\n",
        "    target_size =(img_width, img_height),\n",
        "    batch_size = batch_size,\n",
        "    subset =\"validation\",\n",
        "    class_mode=\"categorical\"\n",
        ")"
      ],
      "execution_count": 12,
      "outputs": [
        {
          "output_type": "stream",
          "text": [
            "Found 81 images belonging to 5 classes.\n",
            "Found 20 images belonging to 5 classes.\n"
          ],
          "name": "stdout"
        }
      ]
    },
    {
      "cell_type": "code",
      "metadata": {
        "colab": {
          "base_uri": "https://localhost:8080/"
        },
        "id": "KwwmbRb0bFfb",
        "outputId": "c520ed9e-31b2-4b05-9b28-bffe7d762eb6"
      },
      "source": [
        "activation = 'relu'\n",
        "model = Sequential()\n",
        "model.add(Conv2D(32, 3, activation = activation, padding = 'same', input_shape = (150, 150, 3)))\n",
        "model.add(BatchNormalization())\n",
        "model.add(MaxPooling2D()) \n",
        "model.add(Dropout(0.3))\n",
        "\n",
        "model.add(Conv2D(32, 3, activation = activation, padding = 'same', kernel_initializer = 'he_uniform'))\n",
        "model.add(BatchNormalization())\n",
        "model.add(MaxPooling2D())\n",
        "model.add(Dropout(0.3))\n",
        "\n",
        "model.add(Conv2D(64, 3, activation = activation, padding = 'same', kernel_initializer = 'he_uniform'))\n",
        "model.add(BatchNormalization())\n",
        "model.add(Dropout(0.4))\n",
        "\n",
        "model.add(Conv2D(64, 3, activation = activation, padding = 'same', kernel_initializer = 'he_uniform'))\n",
        "model.add(BatchNormalization()) \n",
        "model.add(MaxPooling2D())\n",
        "model.add(Dropout(0.3))\n",
        "\n",
        "model.add(Flatten())\n",
        "model.add(Dense(512, activation = activation, kernel_initializer = 'he_uniform'))\n",
        "model.add(Dense(5, activation = 'softmax'))\n",
        "\n",
        "model.compile(optimizer = 'rmsprop',loss = 'categorical_crossentropy', metrics = ['accuracy'])\n",
        "print(model.summary()) "
      ],
      "execution_count": 15,
      "outputs": [
        {
          "output_type": "stream",
          "text": [
            "Model: \"sequential_2\"\n",
            "_________________________________________________________________\n",
            "Layer (type)                 Output Shape              Param #   \n",
            "=================================================================\n",
            "conv2d_8 (Conv2D)            (None, 150, 150, 32)      896       \n",
            "_________________________________________________________________\n",
            "batch_normalization_8 (Batch (None, 150, 150, 32)      128       \n",
            "_________________________________________________________________\n",
            "max_pooling2d_6 (MaxPooling2 (None, 75, 75, 32)        0         \n",
            "_________________________________________________________________\n",
            "dropout_4 (Dropout)          (None, 75, 75, 32)        0         \n",
            "_________________________________________________________________\n",
            "conv2d_9 (Conv2D)            (None, 75, 75, 32)        9248      \n",
            "_________________________________________________________________\n",
            "batch_normalization_9 (Batch (None, 75, 75, 32)        128       \n",
            "_________________________________________________________________\n",
            "max_pooling2d_7 (MaxPooling2 (None, 37, 37, 32)        0         \n",
            "_________________________________________________________________\n",
            "dropout_5 (Dropout)          (None, 37, 37, 32)        0         \n",
            "_________________________________________________________________\n",
            "conv2d_10 (Conv2D)           (None, 37, 37, 64)        18496     \n",
            "_________________________________________________________________\n",
            "batch_normalization_10 (Batc (None, 37, 37, 64)        256       \n",
            "_________________________________________________________________\n",
            "dropout_6 (Dropout)          (None, 37, 37, 64)        0         \n",
            "_________________________________________________________________\n",
            "conv2d_11 (Conv2D)           (None, 37, 37, 64)        36928     \n",
            "_________________________________________________________________\n",
            "batch_normalization_11 (Batc (None, 37, 37, 64)        256       \n",
            "_________________________________________________________________\n",
            "max_pooling2d_8 (MaxPooling2 (None, 18, 18, 64)        0         \n",
            "_________________________________________________________________\n",
            "dropout_7 (Dropout)          (None, 18, 18, 64)        0         \n",
            "_________________________________________________________________\n",
            "flatten_2 (Flatten)          (None, 20736)             0         \n",
            "_________________________________________________________________\n",
            "dense_4 (Dense)              (None, 512)               10617344  \n",
            "_________________________________________________________________\n",
            "dense_5 (Dense)              (None, 5)                 2565      \n",
            "=================================================================\n",
            "Total params: 10,686,245\n",
            "Trainable params: 10,685,861\n",
            "Non-trainable params: 384\n",
            "_________________________________________________________________\n",
            "None\n"
          ],
          "name": "stdout"
        }
      ]
    },
    {
      "cell_type": "code",
      "metadata": {
        "id": "D7ZFWxfFbIVl",
        "colab": {
          "base_uri": "https://localhost:8080/"
        },
        "outputId": "765ae2fa-607d-4705-ac5e-71862d098e2b"
      },
      "source": [
        "history = model.fit_generator(\n",
        "        train_generator,\n",
        "        steps_per_epoch = 9,\n",
        "        epochs = 10,\n",
        "        validation_data = validation_generator,\n",
        "        validation_steps = 2\n",
        ")"
      ],
      "execution_count": 16,
      "outputs": [
        {
          "output_type": "stream",
          "text": [
            "/usr/local/lib/python3.7/dist-packages/tensorflow/python/keras/engine/training.py:1844: UserWarning: `Model.fit_generator` is deprecated and will be removed in a future version. Please use `Model.fit`, which supports generators.\n",
            "  warnings.warn('`Model.fit_generator` is deprecated and '\n"
          ],
          "name": "stderr"
        },
        {
          "output_type": "stream",
          "text": [
            "Epoch 1/10\n",
            "9/9 [==============================] - 5s 446ms/step - loss: 56.3967 - accuracy: 0.1790 - val_loss: 4.7738 - val_accuracy: 0.2222\n",
            "Epoch 2/10\n",
            "9/9 [==============================] - 3s 392ms/step - loss: 18.4214 - accuracy: 0.3057 - val_loss: 8.6456 - val_accuracy: 0.1667\n",
            "Epoch 3/10\n",
            "9/9 [==============================] - 3s 382ms/step - loss: 12.1399 - accuracy: 0.4960 - val_loss: 17.2314 - val_accuracy: 0.1111\n",
            "Epoch 4/10\n",
            "9/9 [==============================] - 3s 360ms/step - loss: 16.8059 - accuracy: 0.3920 - val_loss: 12.7655 - val_accuracy: 0.1667\n",
            "Epoch 5/10\n",
            "9/9 [==============================] - 3s 392ms/step - loss: 9.8963 - accuracy: 0.4575 - val_loss: 18.3954 - val_accuracy: 0.2222\n",
            "Epoch 6/10\n",
            "9/9 [==============================] - 3s 396ms/step - loss: 6.3131 - accuracy: 0.5329 - val_loss: 16.6502 - val_accuracy: 0.2222\n",
            "Epoch 7/10\n",
            "9/9 [==============================] - 3s 389ms/step - loss: 6.4390 - accuracy: 0.4925 - val_loss: 14.4187 - val_accuracy: 0.1667\n",
            "Epoch 8/10\n",
            "9/9 [==============================] - 3s 376ms/step - loss: 3.8215 - accuracy: 0.3980 - val_loss: 26.7177 - val_accuracy: 0.2222\n",
            "Epoch 9/10\n",
            "9/9 [==============================] - 3s 373ms/step - loss: 2.4230 - accuracy: 0.6805 - val_loss: 10.7784 - val_accuracy: 0.2222\n",
            "Epoch 10/10\n",
            "9/9 [==============================] - 3s 367ms/step - loss: 3.8000 - accuracy: 0.5383 - val_loss: 10.3210 - val_accuracy: 0.1667\n"
          ],
          "name": "stdout"
        }
      ]
    },
    {
      "cell_type": "code",
      "metadata": {
        "id": "ukc7GkX4bh9b",
        "colab": {
          "base_uri": "https://localhost:8080/",
          "height": 295
        },
        "outputId": "dcd05534-721f-4171-a273-3c9abedb3319"
      },
      "source": [
        "loss = history.history['loss']\n",
        "val_loss = history.history['val_loss']\n",
        "epochs = range(1, len(loss) + 1)\n",
        "plt.plot(epochs, loss, 'y', label='Training loss')\n",
        "plt.plot(epochs, val_loss, 'r', label='Validation loss')\n",
        "plt.title('Training and validation loss')\n",
        "plt.xlabel('Epochs')\n",
        "plt.ylabel('Loss')\n",
        "plt.legend()\n",
        "plt.show()"
      ],
      "execution_count": 17,
      "outputs": [
        {
          "output_type": "display_data",
          "data": {
            "image/png": "[encoded data removed]",
            "text/plain": [
              "<Figure size 432x288 with 1 Axes>"
            ]
          },
          "metadata": {
            "tags": []
          }
        }
      ]
    },
    {
      "cell_type": "code",
      "metadata": {
        "colab": {
          "base_uri": "https://localhost:8080/",
          "height": 295
        },
        "id": "gKo2kBaFmeW1",
        "outputId": "44b58b1f-2c9d-4a3f-cb44-d309d7e16b52"
      },
      "source": [
        "accuracy = history.history['accuracy']\n",
        "val_accuracy = history.history['val_accuracy']\n",
        "plt.plot(epochs, accuracy, 'y', label='Training accuracy')\n",
        "plt.plot(epochs, val_accuracy, 'r', label='Validation aaccuracy')\n",
        "plt.title('Training and validation accuracy')\n",
        "plt.xlabel('Epochs')\n",
        "plt.ylabel('Accuracy')\n",
        "plt.legend()\n",
        "plt.show()"
      ],
      "execution_count": 24,
      "outputs": [
        {
          "output_type": "display_data",
          "data": {
            "image/png": "[encoded data removed]",
            "text/plain": [
              "<Figure size 432x288 with 1 Axes>"
            ]
          },
          "metadata": {
            "tags": []
          }
        }
      ]
    }
  ]
}